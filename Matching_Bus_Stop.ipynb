{
 "cells": [
  {
   "cell_type": "code",
   "execution_count": 14,
   "id": "bf488b98",
   "metadata": {},
   "outputs": [
    {
     "name": "stderr",
     "output_type": "stream",
     "text": [
      "/var/folders/5d/frvqls_x3yl54h_319g61bm80000gn/T/ipykernel_7124/1497314734.py:6: DtypeWarning: Columns (15) have mixed types. Specify dtype option on import or set low_memory=False.\n",
      "  data = pd.read_csv('/Users/tyleratlas/Desktop/BC Transit Project/JOINED_DATA.csv')\n"
     ]
    }
   ],
   "source": [
    "import pandas as pd\n",
    "from sklearn.neighbors import BallTree\n",
    "\n",
    "# Load Data\n",
    "bus_stops = pd.read_excel('/Users/tyleratlas/Desktop/BC Transit Project/BUS_STOPS.xlsx')\n",
    "data = pd.read_csv('/Users/tyleratlas/Desktop/BC Transit Project/JOINED_DATA.csv')\n",
    "\n",
    "# Rename Lat/Long columns\n",
    "bus_stops.rename(columns={'Latitude': 'stop_latitude', 'Longitude': 'stop_longitude'}, inplace=True)\n",
    "data.rename(columns={'Unnamed: 0': 'id', 'Latitude': 'bus_latitude', 'Longitude': 'bus_longitude'}, inplace=True)\n",
    "\n",
    "# Create arrays for coordinates\n",
    "stop_coords = bus_stops[['stop_latitude', 'stop_longitude']].values\n",
    "bus_coords = data[['bus_latitude', 'bus_longitude']].values\n",
    "\n",
    "# Build a BallTree for efficient nearest neighbor search\n",
    "tree = BallTree(bus_stop_coords, leaf_size=15, metric='haversine')\n",
    "\n",
    "# Query the nearest neighbors\n",
    "distances, indices = tree.query(transaction_coords, k=1)\n",
    "\n",
    "# Create results DataFrame\n",
    "nearest_bus_stops = pd.DataFrame({\n",
    "    'id': data['id'].values,\n",
    "    'transaction_latitude': data['bus_latitude'].values,\n",
    "    'transaction_longitude': data['bus_longitude'].values,\n",
    "    'bus_stop_latitude': bus_stops['stop_latitude'].iloc[indices.flatten()].values,\n",
    "    'bus_stop_longitude': bus_stops['stop_longitude'].iloc[indices.flatten()].values,\n",
    "    'Stop Name': bus_stops['Stop Name'].iloc[indices.flatten()].values,\n",
    "    'distance': distances.flatten()\n",
    "})\n",
    "\n",
    "# Exclude specific bus stops\n",
    "exclude_bus_stops = ['20 Hawley St', 'Chenago/State', 'Chenango/Lyon', 'Tremont/State St on ramp']\n",
    "nearest_bus_stops = nearest_bus_stops[~nearest_bus_stops['Stop Name'].isin(exclude_bus_stops)]\n",
    "\n",
    "# Merge with joined data\n",
    "nearest_bus_stops = pd.merge(nearest_bus_stops, data[['id', 'Address', 'date', 'time.x', 'am_pm',\n",
    "                                                      'bus_num', 'Route', 'movement']], on='id', how='left')\n",
    "\n",
    "# Save to CSV\n",
    "nearest_bus_stops.to_csv('/Users/tyleratlas/Desktop/BC Transit Project/NEAREST_BUS_STOP.csv', index=False)"
   ]
  },
  {
   "cell_type": "code",
   "execution_count": null,
   "id": "17a2db12",
   "metadata": {},
   "outputs": [],
   "source": []
  }
 ],
 "metadata": {
  "kernelspec": {
   "display_name": "Python 3 (ipykernel)",
   "language": "python",
   "name": "python3"
  },
  "language_info": {
   "codemirror_mode": {
    "name": "ipython",
    "version": 3
   },
   "file_extension": ".py",
   "mimetype": "text/x-python",
   "name": "python",
   "nbconvert_exporter": "python",
   "pygments_lexer": "ipython3",
   "version": "3.9.12"
  }
 },
 "nbformat": 4,
 "nbformat_minor": 5
}
